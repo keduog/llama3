{
 "cells": [
  {
   "cell_type": "code",
   "execution_count": 2,
   "id": "4ecdc846-5637-49c0-9042-bf89764de291",
   "metadata": {},
   "outputs": [
    {
     "name": "stdout",
     "output_type": "stream",
     "text": [
      "The first person to land on the moon was Neil Armstrong, an American astronaut and the mission commander of the Apollo 11 mission. He stepped out of the lunar module Eagle and onto the moon's surface on July 20, 1969.\n",
      "\n",
      "At 2:56 UTC on July 21, Armstrong made history by becoming the first person to set foot on the moon, famously declaring, \"That's one small step for man, one giant leap for mankind\" as he stepped off the lunar module's ladder and onto the moon's surface.\n",
      "\n",
      "Armstrong was followed by fellow astronaut Edwin \"Buzz\" Aldrin, who also walked on the moon during the mission. The third member of the Apollo 11 crew, Michael Collins, remained in orbit around the moon in the command module Columbia.\n",
      "\n",
      "Armstrong's historic moonwalk lasted for about two and a half hours, during which he and Aldrin collected samples and conducted experiments on the moon's surface.\n"
     ]
    }
   ],
   "source": [
    "from langchain_groq import ChatGroq\n",
    "\n",
    "llm = ChatGroq(\n",
    "    temperature=0.0,\n",
    "    groq_api_key = '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',\n",
    "     model=\"llama-3.1-70b-versatile\",\n",
    "    #max_retries=2,\n",
    "    # other params...\n",
    ")\n",
    "response = llm.invoke(\"who is the first person who lands in the moon\")\n",
    "print(response.content)"
   ]
  },
  {
   "cell_type": "code",
   "execution_count": null,
   "id": "e7b07d15-ee58-4bb5-b309-32527b98d053",
   "metadata": {},
   "outputs": [],
   "source": []
  }
 ],
 "metadata": {
  "kernelspec": {
   "display_name": "Python 3 (ipykernel)",
   "language": "python",
   "name": "python3"
  },
  "language_info": {
   "codemirror_mode": {
    "name": "ipython",
    "version": 3
   },
   "file_extension": ".py",
   "mimetype": "text/x-python",
   "name": "python",
   "nbconvert_exporter": "python",
   "pygments_lexer": "ipython3",
   "version": "3.12.4"
  }
 },
 "nbformat": 4,
 "nbformat_minor": 5
}
